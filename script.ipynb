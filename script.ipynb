{
 "cells": [
  {
   "cell_type": "markdown",
   "id": "0e4cc62b",
   "metadata": {},
   "source": [
    "#### Notebook to create script to use PLATZI API"
   ]
  },
  {
   "cell_type": "code",
   "execution_count": 44,
   "id": "38d8495e",
   "metadata": {},
   "outputs": [
    {
     "name": "stdout",
     "output_type": "stream",
     "text": [
      "Requirement already satisfied: requests in c:\\users\\jaden\\documents\\jaden\\projects\\platzi-pipeline\\.venv\\lib\\site-packages (2.32.5)\n",
      "Requirement already satisfied: charset_normalizer<4,>=2 in c:\\users\\jaden\\documents\\jaden\\projects\\platzi-pipeline\\.venv\\lib\\site-packages (from requests) (3.4.3)\n",
      "Requirement already satisfied: idna<4,>=2.5 in c:\\users\\jaden\\documents\\jaden\\projects\\platzi-pipeline\\.venv\\lib\\site-packages (from requests) (3.10)\n",
      "Requirement already satisfied: urllib3<3,>=1.21.1 in c:\\users\\jaden\\documents\\jaden\\projects\\platzi-pipeline\\.venv\\lib\\site-packages (from requests) (2.5.0)\n",
      "Requirement already satisfied: certifi>=2017.4.17 in c:\\users\\jaden\\documents\\jaden\\projects\\platzi-pipeline\\.venv\\lib\\site-packages (from requests) (2025.8.3)\n"
     ]
    },
    {
     "name": "stderr",
     "output_type": "stream",
     "text": [
      "\n",
      "[notice] A new release of pip is available: 23.2.1 -> 25.2\n",
      "[notice] To update, run: python.exe -m pip install --upgrade pip\n"
     ]
    },
    {
     "name": "stdout",
     "output_type": "stream",
     "text": [
      "Collecting pandas\n",
      "  Obtaining dependency information for pandas from https://files.pythonhosted.org/packages/28/30/8114832daff7489f179971dbc1d854109b7f4365a546e3ea75b6516cea95/pandas-2.3.2-cp312-cp312-win_amd64.whl.metadata\n",
      "  Downloading pandas-2.3.2-cp312-cp312-win_amd64.whl.metadata (19 kB)\n",
      "Collecting numpy>=1.26.0 (from pandas)\n",
      "  Obtaining dependency information for numpy>=1.26.0 from https://files.pythonhosted.org/packages/32/ee/de999f2625b80d043d6d2d628c07d0d5555a677a3cf78fdf868d409b8766/numpy-2.3.3-cp312-cp312-win_amd64.whl.metadata\n",
      "  Downloading numpy-2.3.3-cp312-cp312-win_amd64.whl.metadata (60 kB)\n",
      "     ---------------------------------------- 0.0/60.9 kB ? eta -:--:--\n",
      "     ------ --------------------------------- 10.2/60.9 kB ? eta -:--:--\n",
      "     ------------------------------- ------ 51.2/60.9 kB 871.5 kB/s eta 0:00:01\n",
      "     ------------------------------- ------ 51.2/60.9 kB 871.5 kB/s eta 0:00:01\n",
      "     -------------------------------------- 60.9/60.9 kB 359.5 kB/s eta 0:00:00\n",
      "Requirement already satisfied: python-dateutil>=2.8.2 in c:\\users\\jaden\\documents\\jaden\\projects\\platzi-pipeline\\.venv\\lib\\site-packages (from pandas) (2.9.0.post0)\n",
      "Collecting pytz>=2020.1 (from pandas)\n",
      "  Obtaining dependency information for pytz>=2020.1 from https://files.pythonhosted.org/packages/81/c4/34e93fe5f5429d7570ec1fa436f1986fb1f00c3e0f43a589fe2bbcd22c3f/pytz-2025.2-py2.py3-none-any.whl.metadata\n",
      "  Downloading pytz-2025.2-py2.py3-none-any.whl.metadata (22 kB)\n",
      "Collecting tzdata>=2022.7 (from pandas)\n",
      "  Obtaining dependency information for tzdata>=2022.7 from https://files.pythonhosted.org/packages/5c/23/c7abc0ca0a1526a0774eca151daeb8de62ec457e77262b66b359c3c7679e/tzdata-2025.2-py2.py3-none-any.whl.metadata\n",
      "  Downloading tzdata-2025.2-py2.py3-none-any.whl.metadata (1.4 kB)\n",
      "Requirement already satisfied: six>=1.5 in c:\\users\\jaden\\documents\\jaden\\projects\\platzi-pipeline\\.venv\\lib\\site-packages (from python-dateutil>=2.8.2->pandas) (1.17.0)\n",
      "Downloading pandas-2.3.2-cp312-cp312-win_amd64.whl (11.0 MB)\n",
      "   ---------------------------------------- 0.0/11.0 MB ? eta -:--:--\n",
      "    --------------------------------------- 0.2/11.0 MB 3.1 MB/s eta 0:00:04\n",
      "   --- ------------------------------------ 1.0/11.0 MB 12.6 MB/s eta 0:00:01\n",
      "   ---------- ----------------------------- 2.9/11.0 MB 23.4 MB/s eta 0:00:01\n",
      "   ------------------- -------------------- 5.3/11.0 MB 30.7 MB/s eta 0:00:01\n",
      "   ---------------------- ----------------- 6.2/11.0 MB 32.7 MB/s eta 0:00:01\n",
      "   ---------------------- ----------------- 6.2/11.0 MB 23.3 MB/s eta 0:00:01\n",
      "   ---------------------------------------  10.9/11.0 MB 43.5 MB/s eta 0:00:01\n",
      "   ---------------------------------------- 11.0/11.0 MB 38.4 MB/s eta 0:00:00\n",
      "Downloading numpy-2.3.3-cp312-cp312-win_amd64.whl (12.8 MB)\n",
      "   ---------------------------------------- 0.0/12.8 MB ? eta -:--:--\n",
      "   ------ --------------------------------- 1.9/12.8 MB 60.2 MB/s eta 0:00:01\n",
      "   ------- -------------------------------- 2.3/12.8 MB 48.8 MB/s eta 0:00:01\n",
      "   ------- -------------------------------- 2.3/12.8 MB 48.8 MB/s eta 0:00:01\n",
      "   ------- -------------------------------- 2.3/12.8 MB 48.8 MB/s eta 0:00:01\n",
      "   ----------------------- ---------------- 7.5/12.8 MB 36.9 MB/s eta 0:00:01\n",
      "   --------------------------------- ------ 10.8/12.8 MB 43.7 MB/s eta 0:00:01\n",
      "   ------------------------------------ --- 11.7/12.8 MB 43.7 MB/s eta 0:00:01\n",
      "   ---------------------------------------- 12.8/12.8 MB 65.6 MB/s eta 0:00:00\n",
      "Downloading pytz-2025.2-py2.py3-none-any.whl (509 kB)\n",
      "   ---------------------------------------- 0.0/509.2 kB ? eta -:--:--\n",
      "   --------------------------------------- 509.2/509.2 kB 16.1 MB/s eta 0:00:00\n",
      "Downloading tzdata-2025.2-py2.py3-none-any.whl (347 kB)\n",
      "   ---------------------------------------- 0.0/347.8 kB ? eta -:--:--\n",
      "   --------------------------------------- 347.8/347.8 kB 22.5 MB/s eta 0:00:00\n",
      "Installing collected packages: pytz, tzdata, numpy, pandas\n",
      "Successfully installed numpy-2.3.3 pandas-2.3.2 pytz-2025.2 tzdata-2025.2\n"
     ]
    },
    {
     "name": "stderr",
     "output_type": "stream",
     "text": [
      "\n",
      "[notice] A new release of pip is available: 23.2.1 -> 25.2\n",
      "[notice] To update, run: python.exe -m pip install --upgrade pip\n"
     ]
    }
   ],
   "source": [
    "!pip install requests\n",
    "!pip install pandas"
   ]
  },
  {
   "cell_type": "code",
   "execution_count": 1,
   "id": "09dca979",
   "metadata": {},
   "outputs": [],
   "source": [
    "import requests\n",
    "import pandas as pd\n",
    "import random\n",
    "from datetime import datetime, timedelta"
   ]
  },
  {
   "cell_type": "code",
   "execution_count": 2,
   "id": "48397f3e",
   "metadata": {},
   "outputs": [],
   "source": [
    "product_url = \"https://api.escuelajs.co/api/v1/products\"\n",
    "user_url = \"https://api.escuelajs.co/api/v1/users\""
   ]
  },
  {
   "cell_type": "code",
   "execution_count": 3,
   "id": "9a88a9ff",
   "metadata": {},
   "outputs": [],
   "source": [
    "def fetch_data(url):\n",
    "    response = requests.get(url)\n",
    "    if response.status_code == 200:\n",
    "        return response.json()\n",
    "    else:\n",
    "        return {\"error\": \"Failed to retrieve data\"}"
   ]
  },
  {
   "cell_type": "code",
   "execution_count": 4,
   "id": "71e4acbb",
   "metadata": {},
   "outputs": [
    {
     "data": {
      "text/plain": [
       "{'id': 2,\n",
       " 'title': 'Classic Red Pullover Hoodie',\n",
       " 'slug': 'classic-red-pullover-hoodie',\n",
       " 'price': 11,\n",
       " 'description': 'Elevate your casual wardrobe with our Classic Red Pullover Hoodie. Crafted with a soft cotton blend for ultimate comfort, this vibrant red hoodie features a kangaroo pocket, adjustable drawstring hood, and ribbed cuffs for a snug fit. The timeless design ensures easy pairing with jeans or joggers for a relaxed yet stylish look, making it a versatile addition to your everyday attire. (editado)',\n",
       " 'category': {'id': 1,\n",
       "  'name': 'Clothes',\n",
       "  'slug': 'clothes',\n",
       "  'image': 'https://i.imgur.com/QkIa5tT.jpeg',\n",
       "  'creationAt': '2025-09-15T18:40:31.000Z',\n",
       "  'updatedAt': '2025-09-15T18:40:31.000Z'},\n",
       " 'images': ['https://i.imgur.com/1twoaDy.jpeg',\n",
       "  'https://i.imgur.com/FDwQgLy.jpeg',\n",
       "  'https://i.imgur.com/kg1ZhhH.jpeg'],\n",
       " 'creationAt': '2025-09-15T18:40:31.000Z',\n",
       " 'updatedAt': '2025-09-15T18:43:33.000Z'}"
      ]
     },
     "execution_count": 4,
     "metadata": {},
     "output_type": "execute_result"
    }
   ],
   "source": [
    "ex_product = fetch_data(product_url)\n",
    "ex_product[0]"
   ]
  },
  {
   "cell_type": "code",
   "execution_count": 5,
   "id": "86092323",
   "metadata": {},
   "outputs": [
    {
     "data": {
      "text/plain": [
       "{'id': 1,\n",
       " 'email': 'john@mail.com',\n",
       " 'password': 'changeme',\n",
       " 'name': 'Jhon',\n",
       " 'role': 'customer',\n",
       " 'avatar': 'https://i.imgur.com/LDOO4Qs.jpg',\n",
       " 'creationAt': '2025-09-15T18:40:31.000Z',\n",
       " 'updatedAt': '2025-09-15T18:40:31.000Z'}"
      ]
     },
     "execution_count": 5,
     "metadata": {},
     "output_type": "execute_result"
    }
   ],
   "source": [
    "ex_user = fetch_data(user_url)\n",
    "ex_user[0]"
   ]
  },
  {
   "cell_type": "markdown",
   "id": "71699144",
   "metadata": {},
   "source": [
    "### Extract useful information - Product\n",
    "\n",
    "id should be renamed to product_id, and the id within category should be renamed to category_id as it is likely a foreign key.\n",
    "\n",
    "Title and slug are redundant, and since I do not plan to display products, slug will be discarded.\n",
    "\n",
    "Only the first image link will be used, in case I the need to display the product arises.\n",
    "\n",
    "There are two pairs of created and updated, so one pair will be removed."
   ]
  },
  {
   "cell_type": "code",
   "execution_count": 6,
   "id": "6f8db13f",
   "metadata": {},
   "outputs": [],
   "source": [
    "ex_product_cleaned = {\n",
    "    'product_id': ex_product[0]['id'],\n",
    "    'category_id': ex_product[0]['category']['id'],\n",
    "    'title': ex_product[0]['title'],\n",
    "    'price': ex_product[0]['price'],\n",
    "    'description': ex_product[0]['description'],\n",
    "    'creationAt': ex_product[0]['creationAt'],\n",
    "    'updatedAt': ex_product[0]['updatedAt']\n",
    "}"
   ]
  },
  {
   "cell_type": "code",
   "execution_count": 7,
   "id": "bd13337b",
   "metadata": {},
   "outputs": [
    {
     "data": {
      "text/plain": [
       "{'product_id': 2,\n",
       " 'category_id': 1,\n",
       " 'title': 'Classic Red Pullover Hoodie',\n",
       " 'price': 11,\n",
       " 'description': 'Elevate your casual wardrobe with our Classic Red Pullover Hoodie. Crafted with a soft cotton blend for ultimate comfort, this vibrant red hoodie features a kangaroo pocket, adjustable drawstring hood, and ribbed cuffs for a snug fit. The timeless design ensures easy pairing with jeans or joggers for a relaxed yet stylish look, making it a versatile addition to your everyday attire. (editado)',\n",
       " 'creationAt': '2025-09-15T18:40:31.000Z',\n",
       " 'updatedAt': '2025-09-15T18:43:33.000Z'}"
      ]
     },
     "execution_count": 7,
     "metadata": {},
     "output_type": "execute_result"
    }
   ],
   "source": [
    "ex_product_cleaned"
   ]
  },
  {
   "cell_type": "code",
   "execution_count": 8,
   "id": "c31b9bb7",
   "metadata": {},
   "outputs": [
    {
     "data": {
      "text/html": [
       "<div>\n",
       "<style scoped>\n",
       "    .dataframe tbody tr th:only-of-type {\n",
       "        vertical-align: middle;\n",
       "    }\n",
       "\n",
       "    .dataframe tbody tr th {\n",
       "        vertical-align: top;\n",
       "    }\n",
       "\n",
       "    .dataframe thead th {\n",
       "        text-align: right;\n",
       "    }\n",
       "</style>\n",
       "<table border=\"1\" class=\"dataframe\">\n",
       "  <thead>\n",
       "    <tr style=\"text-align: right;\">\n",
       "      <th></th>\n",
       "      <th>category_id</th>\n",
       "      <th>title</th>\n",
       "      <th>price</th>\n",
       "      <th>description</th>\n",
       "      <th>creationAt</th>\n",
       "      <th>updatedAt</th>\n",
       "    </tr>\n",
       "    <tr>\n",
       "      <th>product_id</th>\n",
       "      <th></th>\n",
       "      <th></th>\n",
       "      <th></th>\n",
       "      <th></th>\n",
       "      <th></th>\n",
       "      <th></th>\n",
       "    </tr>\n",
       "  </thead>\n",
       "  <tbody>\n",
       "    <tr>\n",
       "      <th>2</th>\n",
       "      <td>1</td>\n",
       "      <td>Classic Red Pullover Hoodie</td>\n",
       "      <td>11</td>\n",
       "      <td>Elevate your casual wardrobe with our Classic ...</td>\n",
       "      <td>2025-09-15T18:40:31.000Z</td>\n",
       "      <td>2025-09-15T18:43:33.000Z</td>\n",
       "    </tr>\n",
       "    <tr>\n",
       "      <th>3</th>\n",
       "      <td>1</td>\n",
       "      <td>Classic Heather Gray Hoodie</td>\n",
       "      <td>89</td>\n",
       "      <td>Stay cozy and stylish with our Classic Heather...</td>\n",
       "      <td>2025-09-15T18:40:31.000Z</td>\n",
       "      <td>2025-09-15T18:44:08.000Z</td>\n",
       "    </tr>\n",
       "    <tr>\n",
       "      <th>4</th>\n",
       "      <td>1</td>\n",
       "      <td>Classic Grey Hooded Sweatshirt</td>\n",
       "      <td>90</td>\n",
       "      <td>Elevate your casual wear with our Classic Grey...</td>\n",
       "      <td>2025-09-15T18:40:31.000Z</td>\n",
       "      <td>2025-09-15T18:40:31.000Z</td>\n",
       "    </tr>\n",
       "    <tr>\n",
       "      <th>5</th>\n",
       "      <td>1</td>\n",
       "      <td>Classic Black Hooded Sweatshirt</td>\n",
       "      <td>99</td>\n",
       "      <td>Elevate your casual wardrobe with our Classic ...</td>\n",
       "      <td>2025-09-15T18:40:31.000Z</td>\n",
       "      <td>2025-09-15T18:44:19.000Z</td>\n",
       "    </tr>\n",
       "    <tr>\n",
       "      <th>6</th>\n",
       "      <td>1</td>\n",
       "      <td>Classic Comfort Fit Joggers</td>\n",
       "      <td>65</td>\n",
       "      <td>Discover the perfect blend of style and comfor...</td>\n",
       "      <td>2025-09-15T18:40:31.000Z</td>\n",
       "      <td>2025-09-15T18:44:15.000Z</td>\n",
       "    </tr>\n",
       "  </tbody>\n",
       "</table>\n",
       "</div>"
      ],
      "text/plain": [
       "            category_id                            title  price  \\\n",
       "product_id                                                        \n",
       "2                     1      Classic Red Pullover Hoodie     11   \n",
       "3                     1      Classic Heather Gray Hoodie     89   \n",
       "4                     1   Classic Grey Hooded Sweatshirt     90   \n",
       "5                     1  Classic Black Hooded Sweatshirt     99   \n",
       "6                     1      Classic Comfort Fit Joggers     65   \n",
       "\n",
       "                                                  description  \\\n",
       "product_id                                                      \n",
       "2           Elevate your casual wardrobe with our Classic ...   \n",
       "3           Stay cozy and stylish with our Classic Heather...   \n",
       "4           Elevate your casual wear with our Classic Grey...   \n",
       "5           Elevate your casual wardrobe with our Classic ...   \n",
       "6           Discover the perfect blend of style and comfor...   \n",
       "\n",
       "                          creationAt                 updatedAt  \n",
       "product_id                                                      \n",
       "2           2025-09-15T18:40:31.000Z  2025-09-15T18:43:33.000Z  \n",
       "3           2025-09-15T18:40:31.000Z  2025-09-15T18:44:08.000Z  \n",
       "4           2025-09-15T18:40:31.000Z  2025-09-15T18:40:31.000Z  \n",
       "5           2025-09-15T18:40:31.000Z  2025-09-15T18:44:19.000Z  \n",
       "6           2025-09-15T18:40:31.000Z  2025-09-15T18:44:15.000Z  "
      ]
     },
     "execution_count": 8,
     "metadata": {},
     "output_type": "execute_result"
    }
   ],
   "source": [
    "product_rows = []\n",
    "product_images_rows = []\n",
    "\n",
    "for p in ex_product:\n",
    "    product_rows.append({\n",
    "        'product_id': p['id'],\n",
    "        'category_id': p['category']['id'],\n",
    "        'title': p['title'],\n",
    "        'price': p['price'],\n",
    "        'description': p['description'],\n",
    "        'creationAt': p['creationAt'],\n",
    "        'updatedAt': p['updatedAt']\n",
    "    })\n",
    "    product_images_rows.append({\n",
    "        'product_id': p['id'],\n",
    "        'image': p['category']['image']\n",
    "    })\n",
    "\n",
    "df_products = pd.DataFrame(product_rows).drop_duplicates().set_index('product_id')\n",
    "df_products.head()"
   ]
  },
  {
   "cell_type": "code",
   "execution_count": null,
   "id": "01b2a04b",
   "metadata": {},
   "outputs": [
    {
     "data": {
      "text/html": [
       "<div>\n",
       "<style scoped>\n",
       "    .dataframe tbody tr th:only-of-type {\n",
       "        vertical-align: middle;\n",
       "    }\n",
       "\n",
       "    .dataframe tbody tr th {\n",
       "        vertical-align: top;\n",
       "    }\n",
       "\n",
       "    .dataframe thead th {\n",
       "        text-align: right;\n",
       "    }\n",
       "</style>\n",
       "<table border=\"1\" class=\"dataframe\">\n",
       "  <thead>\n",
       "    <tr style=\"text-align: right;\">\n",
       "      <th></th>\n",
       "      <th>product_id</th>\n",
       "      <th>image</th>\n",
       "    </tr>\n",
       "  </thead>\n",
       "  <tbody>\n",
       "    <tr>\n",
       "      <th>0</th>\n",
       "      <td>2</td>\n",
       "      <td>https://i.imgur.com/QkIa5tT.jpeg</td>\n",
       "    </tr>\n",
       "    <tr>\n",
       "      <th>1</th>\n",
       "      <td>3</td>\n",
       "      <td>https://i.imgur.com/QkIa5tT.jpeg</td>\n",
       "    </tr>\n",
       "    <tr>\n",
       "      <th>2</th>\n",
       "      <td>4</td>\n",
       "      <td>https://i.imgur.com/QkIa5tT.jpeg</td>\n",
       "    </tr>\n",
       "    <tr>\n",
       "      <th>3</th>\n",
       "      <td>5</td>\n",
       "      <td>https://i.imgur.com/QkIa5tT.jpeg</td>\n",
       "    </tr>\n",
       "    <tr>\n",
       "      <th>4</th>\n",
       "      <td>6</td>\n",
       "      <td>https://i.imgur.com/QkIa5tT.jpeg</td>\n",
       "    </tr>\n",
       "  </tbody>\n",
       "</table>\n",
       "</div>"
      ],
      "text/plain": [
       "   product_id                             image\n",
       "0           2  https://i.imgur.com/QkIa5tT.jpeg\n",
       "1           3  https://i.imgur.com/QkIa5tT.jpeg\n",
       "2           4  https://i.imgur.com/QkIa5tT.jpeg\n",
       "3           5  https://i.imgur.com/QkIa5tT.jpeg\n",
       "4           6  https://i.imgur.com/QkIa5tT.jpeg"
      ]
     },
     "execution_count": 9,
     "metadata": {},
     "output_type": "execute_result"
    }
   ],
   "source": [
    "df_products_images = pd.DataFrame(product_images_rows).drop_duplicates()\n",
    "df_products_images.head()"
   ]
  },
  {
   "cell_type": "markdown",
   "id": "2802f785",
   "metadata": {},
   "source": [
    "This makes much more sense, and removes a lot of redundant information. However, it must be noted that within every product was a section for the category that the product was in, which means it should belong to another table as it would be redundant to keep the information of category which is more broad than the product.\n",
    "\n",
    "This means another table, Category, will be created. \n",
    "\n",
    "Also note that there are images for products, as well as images in Category that are repeating groups of image links. It would be useful to separate the images from the other data, so two more tables should be created, one for Product Images, and then another for Category Images."
   ]
  },
  {
   "cell_type": "code",
   "execution_count": 10,
   "id": "66d32d04",
   "metadata": {},
   "outputs": [
    {
     "data": {
      "text/html": [
       "<div>\n",
       "<style scoped>\n",
       "    .dataframe tbody tr th:only-of-type {\n",
       "        vertical-align: middle;\n",
       "    }\n",
       "\n",
       "    .dataframe tbody tr th {\n",
       "        vertical-align: top;\n",
       "    }\n",
       "\n",
       "    .dataframe thead th {\n",
       "        text-align: right;\n",
       "    }\n",
       "</style>\n",
       "<table border=\"1\" class=\"dataframe\">\n",
       "  <thead>\n",
       "    <tr style=\"text-align: right;\">\n",
       "      <th></th>\n",
       "      <th>category_id</th>\n",
       "      <th>name</th>\n",
       "    </tr>\n",
       "  </thead>\n",
       "  <tbody>\n",
       "    <tr>\n",
       "      <th>0</th>\n",
       "      <td>1</td>\n",
       "      <td>Clothes</td>\n",
       "    </tr>\n",
       "    <tr>\n",
       "      <th>1</th>\n",
       "      <td>2</td>\n",
       "      <td>Electronics</td>\n",
       "    </tr>\n",
       "    <tr>\n",
       "      <th>2</th>\n",
       "      <td>3</td>\n",
       "      <td>Furniture</td>\n",
       "    </tr>\n",
       "    <tr>\n",
       "      <th>3</th>\n",
       "      <td>4</td>\n",
       "      <td>Shoes</td>\n",
       "    </tr>\n",
       "    <tr>\n",
       "      <th>4</th>\n",
       "      <td>5</td>\n",
       "      <td>Miscellaneous</td>\n",
       "    </tr>\n",
       "    <tr>\n",
       "      <th>5</th>\n",
       "      <td>42</td>\n",
       "      <td>string</td>\n",
       "    </tr>\n",
       "  </tbody>\n",
       "</table>\n",
       "</div>"
      ],
      "text/plain": [
       "   category_id           name\n",
       "0            1        Clothes\n",
       "1            2    Electronics\n",
       "2            3      Furniture\n",
       "3            4          Shoes\n",
       "4            5  Miscellaneous\n",
       "5           42         string"
      ]
     },
     "execution_count": 10,
     "metadata": {},
     "output_type": "execute_result"
    }
   ],
   "source": [
    "category_rows = []\n",
    "category_images_rows = []\n",
    "\n",
    "for p in ex_product:\n",
    "    category_rows.append({\n",
    "        'category_id': p['category']['id'],\n",
    "        'name': p['category']['name']\n",
    "    })\n",
    "    category_images_rows.append({\n",
    "        'category_id': p['category']['id'],\n",
    "        'image': p['category']['image']\n",
    "        })\n",
    "\n",
    "df_category = pd.DataFrame(category_rows).drop_duplicates().reset_index(drop=True)\n",
    "df_category"
   ]
  },
  {
   "cell_type": "code",
   "execution_count": null,
   "id": "b538ddd3",
   "metadata": {},
   "outputs": [
    {
     "data": {
      "text/html": [
       "<div>\n",
       "<style scoped>\n",
       "    .dataframe tbody tr th:only-of-type {\n",
       "        vertical-align: middle;\n",
       "    }\n",
       "\n",
       "    .dataframe tbody tr th {\n",
       "        vertical-align: top;\n",
       "    }\n",
       "\n",
       "    .dataframe thead th {\n",
       "        text-align: right;\n",
       "    }\n",
       "</style>\n",
       "<table border=\"1\" class=\"dataframe\">\n",
       "  <thead>\n",
       "    <tr style=\"text-align: right;\">\n",
       "      <th></th>\n",
       "      <th>category_id</th>\n",
       "      <th>image</th>\n",
       "    </tr>\n",
       "  </thead>\n",
       "  <tbody>\n",
       "    <tr>\n",
       "      <th>0</th>\n",
       "      <td>1</td>\n",
       "      <td>https://i.imgur.com/QkIa5tT.jpeg</td>\n",
       "    </tr>\n",
       "    <tr>\n",
       "      <th>1</th>\n",
       "      <td>2</td>\n",
       "      <td>https://i.imgur.com/ZANVnHE.jpeg</td>\n",
       "    </tr>\n",
       "    <tr>\n",
       "      <th>2</th>\n",
       "      <td>3</td>\n",
       "      <td>https://i.imgur.com/Qphac99.jpeg</td>\n",
       "    </tr>\n",
       "    <tr>\n",
       "      <th>3</th>\n",
       "      <td>4</td>\n",
       "      <td>https://i.imgur.com/qNOjJje.jpeg</td>\n",
       "    </tr>\n",
       "    <tr>\n",
       "      <th>4</th>\n",
       "      <td>5</td>\n",
       "      <td>https://i.imgur.com/BG8J0Fj.jpg</td>\n",
       "    </tr>\n",
       "    <tr>\n",
       "      <th>5</th>\n",
       "      <td>42</td>\n",
       "      <td>https://pravatar.cc/</td>\n",
       "    </tr>\n",
       "  </tbody>\n",
       "</table>\n",
       "</div>"
      ],
      "text/plain": [
       "   category_id                             image\n",
       "0            1  https://i.imgur.com/QkIa5tT.jpeg\n",
       "1            2  https://i.imgur.com/ZANVnHE.jpeg\n",
       "2            3  https://i.imgur.com/Qphac99.jpeg\n",
       "3            4  https://i.imgur.com/qNOjJje.jpeg\n",
       "4            5   https://i.imgur.com/BG8J0Fj.jpg\n",
       "5           42              https://pravatar.cc/"
      ]
     },
     "execution_count": 11,
     "metadata": {},
     "output_type": "execute_result"
    }
   ],
   "source": [
    "df_category_images = pd.DataFrame(category_images_rows).drop_duplicates().reset_index(drop=True)\n",
    "df_category_images"
   ]
  },
  {
   "cell_type": "markdown",
   "id": "8a4f3780",
   "metadata": {
    "vscode": {
     "languageId": "markdown"
    }
   },
   "source": [
    "### Extract useful information - User\n",
    "\n",
    "User information has a much more simple structure, and simply due to the nature of this project, I will drop password as I have no use for it, as well as the creationAt and updateAt columns since I have no use for time related information for so few entries.\n",
    "\n",
    "The orders will be artificial so the dates will be arbitrary and so I will not use the dates.\n",
    "\n",
    "I have also changed 'id' to 'user_id' for more clarity."
   ]
  },
  {
   "cell_type": "code",
   "execution_count": 12,
   "id": "36d32d88",
   "metadata": {
    "vscode": {
     "languageId": "markdown"
    }
   },
   "outputs": [
    {
     "data": {
      "text/plain": [
       "{'user_id': 1,\n",
       " 'email': 'john@mail.com',\n",
       " 'name': 'Jhon',\n",
       " 'role': 'customer',\n",
       " 'avatar': 'https://i.imgur.com/LDOO4Qs.jpg'}"
      ]
     },
     "execution_count": 12,
     "metadata": {},
     "output_type": "execute_result"
    }
   ],
   "source": [
    "cleaned_user = {\n",
    "'user_id': ex_user[0]['id'],\n",
    " 'email': ex_user[0]['email'],\n",
    " 'name':  ex_user[0]['name'],\n",
    " 'role': ex_user[0]['role'],\n",
    " 'avatar': ex_user[0]['avatar']\n",
    " }\n",
    "cleaned_user"
   ]
  },
  {
   "cell_type": "code",
   "execution_count": null,
   "id": "86720016",
   "metadata": {},
   "outputs": [
    {
     "data": {
      "text/html": [
       "<div>\n",
       "<style scoped>\n",
       "    .dataframe tbody tr th:only-of-type {\n",
       "        vertical-align: middle;\n",
       "    }\n",
       "\n",
       "    .dataframe tbody tr th {\n",
       "        vertical-align: top;\n",
       "    }\n",
       "\n",
       "    .dataframe thead th {\n",
       "        text-align: right;\n",
       "    }\n",
       "</style>\n",
       "<table border=\"1\" class=\"dataframe\">\n",
       "  <thead>\n",
       "    <tr style=\"text-align: right;\">\n",
       "      <th></th>\n",
       "      <th>name</th>\n",
       "      <th>email</th>\n",
       "      <th>role</th>\n",
       "    </tr>\n",
       "    <tr>\n",
       "      <th>user_id</th>\n",
       "      <th></th>\n",
       "      <th></th>\n",
       "      <th></th>\n",
       "    </tr>\n",
       "  </thead>\n",
       "  <tbody>\n",
       "    <tr>\n",
       "      <th>1</th>\n",
       "      <td>Jhon</td>\n",
       "      <td>john@mail.com</td>\n",
       "      <td>customer</td>\n",
       "    </tr>\n",
       "    <tr>\n",
       "      <th>2</th>\n",
       "      <td>Maria</td>\n",
       "      <td>maria@mail.com</td>\n",
       "      <td>customer</td>\n",
       "    </tr>\n",
       "    <tr>\n",
       "      <th>3</th>\n",
       "      <td>Admin</td>\n",
       "      <td>admin@mail.com</td>\n",
       "      <td>admin</td>\n",
       "    </tr>\n",
       "    <tr>\n",
       "      <th>4</th>\n",
       "      <td>esraa</td>\n",
       "      <td>esr@gmail.com</td>\n",
       "      <td>customer</td>\n",
       "    </tr>\n",
       "    <tr>\n",
       "      <th>5</th>\n",
       "      <td>John Doe</td>\n",
       "      <td>johndoe@gmail.com</td>\n",
       "      <td>customer</td>\n",
       "    </tr>\n",
       "    <tr>\n",
       "      <th>11</th>\n",
       "      <td>beko</td>\n",
       "      <td>beko@gmail.com</td>\n",
       "      <td>admin</td>\n",
       "    </tr>\n",
       "    <tr>\n",
       "      <th>12</th>\n",
       "      <td>Cathrine_Hamill65</td>\n",
       "      <td>Shany.Parisian@gmail.com</td>\n",
       "      <td>admin</td>\n",
       "    </tr>\n",
       "    <tr>\n",
       "      <th>13</th>\n",
       "      <td>mohmmed</td>\n",
       "      <td>aaaa@gmail.com</td>\n",
       "      <td>customer</td>\n",
       "    </tr>\n",
       "    <tr>\n",
       "      <th>14</th>\n",
       "      <td>Pamela</td>\n",
       "      <td>pams39424@gmail.com</td>\n",
       "      <td>customer</td>\n",
       "    </tr>\n",
       "  </tbody>\n",
       "</table>\n",
       "</div>"
      ],
      "text/plain": [
       "                      name                     email      role\n",
       "user_id                                                       \n",
       "1                     Jhon             john@mail.com  customer\n",
       "2                    Maria            maria@mail.com  customer\n",
       "3                    Admin            admin@mail.com     admin\n",
       "4                    esraa             esr@gmail.com  customer\n",
       "5                 John Doe         johndoe@gmail.com  customer\n",
       "11                    beko            beko@gmail.com     admin\n",
       "12       Cathrine_Hamill65  Shany.Parisian@gmail.com     admin\n",
       "13                 mohmmed            aaaa@gmail.com  customer\n",
       "14                  Pamela       pams39424@gmail.com  customer"
      ]
     },
     "execution_count": 13,
     "metadata": {},
     "output_type": "execute_result"
    }
   ],
   "source": [
    "user_rows = []\n",
    "\n",
    "for u in ex_user:\n",
    "    user_rows.append({\n",
    "        'user_id': u['id'],\n",
    "        'name': u['name'],\n",
    "        'email': u['email'],\n",
    "        'role': u['role']\n",
    "    })\n",
    "\n",
    "\n",
    "user_df = pd.DataFrame(user_rows).drop_duplicates(subset=['email']).set_index('user_id')\n",
    "user_df"
   ]
  },
  {
   "cell_type": "markdown",
   "id": "451a59a9",
   "metadata": {
    "vscode": {
     "languageId": "markdown"
    }
   },
   "source": [
    "### Simulate Orders\n",
    "\n",
    "I would like to simulate orders, so I will randomly select users and items to combine into their order, and randomly choose a date for it as well.\n",
    "\n",
    "It would be useful to separate orders into Orders, and Order Items which details the items in each order.\n",
    "\n",
    "##### Orders\n",
    "\n",
    "* Each order will have an order_id, a user_id, and a total for the order, as well as the date the order was placed.\n",
    "\n",
    "##### Order Items\n",
    "\n",
    "* Each order has order items, which can be identified using order_item_id, order_id connecting to the order, and product_id connect to the product.\n",
    "* Also a quantity, and a price."
   ]
  },
  {
   "cell_type": "code",
   "execution_count": null,
   "id": "9131b56a",
   "metadata": {},
   "outputs": [],
   "source": [
    "orders = []\n",
    "order_items = []\n",
    "\n",
    "order_id_counter = 1\n",
    "order_item_id_counter = 1\n",
    "\n",
    "for user_id in user_df.index:\n",
    "    num_orders = random.randint(1, 5)\n",
    "    for _ in range(num_orders):\n",
    "        order_date = datetime.now() - timedelta(days=random.randint(1, 365))\n",
    "        \n",
    "        # build order\n",
    "        orders.append({\n",
    "            \"order_id\": order_id_counter,\n",
    "            \"user_id\": user_id,\n",
    "            \"order_date\": order_date\n",
    "        })\n",
    "\n",
    "        # add products to order\n",
    "        products_sample = df_products.sample(random.randint(1, 5))\n",
    "        for _, product in products_sample.iterrows():\n",
    "            qty = random.randint(1, 3)\n",
    "            unit_price = product.price\n",
    "            order_items.append({\n",
    "                \"order_item_id\": order_item_id_counter,\n",
    "                \"order_id\": order_id_counter,\n",
    "                \"product_id\": product.name,\n",
    "                \"quantity\": qty,\n",
    "                \"unit_price\": product.price,\n",
    "                \"line_total\": qty * unit_price\n",
    "            })\n",
    "            order_item_id_counter += 1\n",
    "\n",
    "        order_id_counter += 1\n",
    "\n",
    "df_orders = pd.DataFrame(orders)\n",
    "df_order_items = pd.DataFrame(order_items)"
   ]
  },
  {
   "cell_type": "code",
   "execution_count": 42,
   "id": "1c2abf7a",
   "metadata": {},
   "outputs": [
    {
     "data": {
      "text/html": [
       "<div>\n",
       "<style scoped>\n",
       "    .dataframe tbody tr th:only-of-type {\n",
       "        vertical-align: middle;\n",
       "    }\n",
       "\n",
       "    .dataframe tbody tr th {\n",
       "        vertical-align: top;\n",
       "    }\n",
       "\n",
       "    .dataframe thead th {\n",
       "        text-align: right;\n",
       "    }\n",
       "</style>\n",
       "<table border=\"1\" class=\"dataframe\">\n",
       "  <thead>\n",
       "    <tr style=\"text-align: right;\">\n",
       "      <th></th>\n",
       "      <th>order_id</th>\n",
       "      <th>user_id</th>\n",
       "      <th>order_date</th>\n",
       "    </tr>\n",
       "  </thead>\n",
       "  <tbody>\n",
       "    <tr>\n",
       "      <th>0</th>\n",
       "      <td>1</td>\n",
       "      <td>1</td>\n",
       "      <td>2025-08-05 16:28:15.649839</td>\n",
       "    </tr>\n",
       "    <tr>\n",
       "      <th>1</th>\n",
       "      <td>2</td>\n",
       "      <td>1</td>\n",
       "      <td>2025-02-21 16:28:15.650843</td>\n",
       "    </tr>\n",
       "    <tr>\n",
       "      <th>2</th>\n",
       "      <td>3</td>\n",
       "      <td>1</td>\n",
       "      <td>2025-09-07 16:28:15.650843</td>\n",
       "    </tr>\n",
       "    <tr>\n",
       "      <th>3</th>\n",
       "      <td>4</td>\n",
       "      <td>1</td>\n",
       "      <td>2024-11-26 16:28:15.650843</td>\n",
       "    </tr>\n",
       "    <tr>\n",
       "      <th>4</th>\n",
       "      <td>5</td>\n",
       "      <td>2</td>\n",
       "      <td>2025-02-25 16:28:15.652677</td>\n",
       "    </tr>\n",
       "  </tbody>\n",
       "</table>\n",
       "</div>"
      ],
      "text/plain": [
       "   order_id  user_id                 order_date\n",
       "0         1        1 2025-08-05 16:28:15.649839\n",
       "1         2        1 2025-02-21 16:28:15.650843\n",
       "2         3        1 2025-09-07 16:28:15.650843\n",
       "3         4        1 2024-11-26 16:28:15.650843\n",
       "4         5        2 2025-02-25 16:28:15.652677"
      ]
     },
     "execution_count": 42,
     "metadata": {},
     "output_type": "execute_result"
    }
   ],
   "source": [
    "df_orders.head()"
   ]
  },
  {
   "cell_type": "code",
   "execution_count": 43,
   "id": "c041c2f0",
   "metadata": {},
   "outputs": [
    {
     "data": {
      "text/html": [
       "<div>\n",
       "<style scoped>\n",
       "    .dataframe tbody tr th:only-of-type {\n",
       "        vertical-align: middle;\n",
       "    }\n",
       "\n",
       "    .dataframe tbody tr th {\n",
       "        vertical-align: top;\n",
       "    }\n",
       "\n",
       "    .dataframe thead th {\n",
       "        text-align: right;\n",
       "    }\n",
       "</style>\n",
       "<table border=\"1\" class=\"dataframe\">\n",
       "  <thead>\n",
       "    <tr style=\"text-align: right;\">\n",
       "      <th></th>\n",
       "      <th>order_item_id</th>\n",
       "      <th>order_id</th>\n",
       "      <th>product_id</th>\n",
       "      <th>quantity</th>\n",
       "      <th>unit_price</th>\n",
       "      <th>line_total</th>\n",
       "    </tr>\n",
       "  </thead>\n",
       "  <tbody>\n",
       "    <tr>\n",
       "      <th>0</th>\n",
       "      <td>1</td>\n",
       "      <td>1</td>\n",
       "      <td>43</td>\n",
       "      <td>3</td>\n",
       "      <td>17</td>\n",
       "      <td>51</td>\n",
       "    </tr>\n",
       "    <tr>\n",
       "      <th>1</th>\n",
       "      <td>2</td>\n",
       "      <td>1</td>\n",
       "      <td>60</td>\n",
       "      <td>2</td>\n",
       "      <td>20</td>\n",
       "      <td>40</td>\n",
       "    </tr>\n",
       "    <tr>\n",
       "      <th>2</th>\n",
       "      <td>3</td>\n",
       "      <td>1</td>\n",
       "      <td>38</td>\n",
       "      <td>3</td>\n",
       "      <td>27</td>\n",
       "      <td>81</td>\n",
       "    </tr>\n",
       "    <tr>\n",
       "      <th>3</th>\n",
       "      <td>4</td>\n",
       "      <td>1</td>\n",
       "      <td>63</td>\n",
       "      <td>2</td>\n",
       "      <td>77</td>\n",
       "      <td>154</td>\n",
       "    </tr>\n",
       "    <tr>\n",
       "      <th>4</th>\n",
       "      <td>5</td>\n",
       "      <td>2</td>\n",
       "      <td>19</td>\n",
       "      <td>2</td>\n",
       "      <td>44</td>\n",
       "      <td>88</td>\n",
       "    </tr>\n",
       "  </tbody>\n",
       "</table>\n",
       "</div>"
      ],
      "text/plain": [
       "   order_item_id  order_id  product_id  quantity  unit_price  line_total\n",
       "0              1         1          43         3          17          51\n",
       "1              2         1          60         2          20          40\n",
       "2              3         1          38         3          27          81\n",
       "3              4         1          63         2          77         154\n",
       "4              5         2          19         2          44          88"
      ]
     },
     "execution_count": 43,
     "metadata": {},
     "output_type": "execute_result"
    }
   ],
   "source": [
    "df_order_items.head()"
   ]
  },
  {
   "cell_type": "markdown",
   "id": "9c38f50b",
   "metadata": {},
   "source": [
    "## Validate Data\n",
    "\n",
    "Now that the dataframes have been loaded, it is time to validate the data.\n",
    "\n",
    "* Every product_id in order_items exists in products.\n",
    "* Every user_id in orders exists in users.\n",
    "* Every order_id in order_items exists in orders.\n",
    "\n",
    "* Timestamps need to be converted to match form.\n",
    "* Prices must be consistent.\n",
    "* Remove white spaces and standardize text."
   ]
  },
  {
   "cell_type": "code",
   "execution_count": 58,
   "id": "30f2992b",
   "metadata": {},
   "outputs": [
    {
     "ename": "AttributeError",
     "evalue": "'Series' object has no attribute 'lower'",
     "output_type": "error",
     "traceback": [
      "\u001b[31m---------------------------------------------------------------------------\u001b[39m",
      "\u001b[31mAttributeError\u001b[39m                            Traceback (most recent call last)",
      "\u001b[32m~\\AppData\\Local\\Temp\\ipykernel_23428\\1794384582.py\u001b[39m in \u001b[36m?\u001b[39m\u001b[34m()\u001b[39m\n\u001b[32m----> \u001b[39m\u001b[32m1\u001b[39m user_df.name.lower()\n",
      "\u001b[32mc:\\Users\\jaden\\Documents\\Jaden\\Projects\\platzi-pipeline\\.venv\\Lib\\site-packages\\pandas\\core\\generic.py\u001b[39m in \u001b[36m?\u001b[39m\u001b[34m(self, name)\u001b[39m\n\u001b[32m   6314\u001b[39m             \u001b[38;5;28;01mand\u001b[39;00m name \u001b[38;5;28;01mnot\u001b[39;00m \u001b[38;5;28;01min\u001b[39;00m self._accessors\n\u001b[32m   6315\u001b[39m             \u001b[38;5;28;01mand\u001b[39;00m self._info_axis._can_hold_identifiers_and_holds_name(name)\n\u001b[32m   6316\u001b[39m         ):\n\u001b[32m   6317\u001b[39m             \u001b[38;5;28;01mreturn\u001b[39;00m self[name]\n\u001b[32m-> \u001b[39m\u001b[32m6318\u001b[39m         \u001b[38;5;28;01mreturn\u001b[39;00m object.__getattribute__(self, name)\n",
      "\u001b[31mAttributeError\u001b[39m: 'Series' object has no attribute 'lower'"
     ]
    }
   ],
   "source": [
    "user_df.name.lower()"
   ]
  },
  {
   "cell_type": "code",
   "execution_count": 50,
   "id": "26f59cea",
   "metadata": {},
   "outputs": [
    {
     "data": {
      "text/html": [
       "<div>\n",
       "<style scoped>\n",
       "    .dataframe tbody tr th:only-of-type {\n",
       "        vertical-align: middle;\n",
       "    }\n",
       "\n",
       "    .dataframe tbody tr th {\n",
       "        vertical-align: top;\n",
       "    }\n",
       "\n",
       "    .dataframe thead th {\n",
       "        text-align: right;\n",
       "    }\n",
       "</style>\n",
       "<table border=\"1\" class=\"dataframe\">\n",
       "  <thead>\n",
       "    <tr style=\"text-align: right;\">\n",
       "      <th></th>\n",
       "      <th>category_id</th>\n",
       "      <th>title</th>\n",
       "      <th>price</th>\n",
       "      <th>description</th>\n",
       "      <th>creationAt</th>\n",
       "      <th>updatedAt</th>\n",
       "    </tr>\n",
       "    <tr>\n",
       "      <th>product_id</th>\n",
       "      <th></th>\n",
       "      <th></th>\n",
       "      <th></th>\n",
       "      <th></th>\n",
       "      <th></th>\n",
       "      <th></th>\n",
       "    </tr>\n",
       "  </thead>\n",
       "  <tbody>\n",
       "    <tr>\n",
       "      <th>2</th>\n",
       "      <td>1</td>\n",
       "      <td>Classic Red Pullover Hoodie</td>\n",
       "      <td>11</td>\n",
       "      <td>Elevate your casual wardrobe with our Classic ...</td>\n",
       "      <td>2025-09-15T18:40:31.000Z</td>\n",
       "      <td>2025-09-15T18:43:33.000Z</td>\n",
       "    </tr>\n",
       "    <tr>\n",
       "      <th>3</th>\n",
       "      <td>1</td>\n",
       "      <td>Classic Heather Gray Hoodie</td>\n",
       "      <td>89</td>\n",
       "      <td>Stay cozy and stylish with our Classic Heather...</td>\n",
       "      <td>2025-09-15T18:40:31.000Z</td>\n",
       "      <td>2025-09-15T18:44:08.000Z</td>\n",
       "    </tr>\n",
       "  </tbody>\n",
       "</table>\n",
       "</div>"
      ],
      "text/plain": [
       "            category_id                        title  price  \\\n",
       "product_id                                                    \n",
       "2                     1  Classic Red Pullover Hoodie     11   \n",
       "3                     1  Classic Heather Gray Hoodie     89   \n",
       "\n",
       "                                                  description  \\\n",
       "product_id                                                      \n",
       "2           Elevate your casual wardrobe with our Classic ...   \n",
       "3           Stay cozy and stylish with our Classic Heather...   \n",
       "\n",
       "                          creationAt                 updatedAt  \n",
       "product_id                                                      \n",
       "2           2025-09-15T18:40:31.000Z  2025-09-15T18:43:33.000Z  \n",
       "3           2025-09-15T18:40:31.000Z  2025-09-15T18:44:08.000Z  "
      ]
     },
     "execution_count": 50,
     "metadata": {},
     "output_type": "execute_result"
    }
   ],
   "source": [
    "df_products.head(2)"
   ]
  },
  {
   "cell_type": "code",
   "execution_count": 51,
   "id": "9c709d0b",
   "metadata": {},
   "outputs": [
    {
     "data": {
      "text/html": [
       "<div>\n",
       "<style scoped>\n",
       "    .dataframe tbody tr th:only-of-type {\n",
       "        vertical-align: middle;\n",
       "    }\n",
       "\n",
       "    .dataframe tbody tr th {\n",
       "        vertical-align: top;\n",
       "    }\n",
       "\n",
       "    .dataframe thead th {\n",
       "        text-align: right;\n",
       "    }\n",
       "</style>\n",
       "<table border=\"1\" class=\"dataframe\">\n",
       "  <thead>\n",
       "    <tr style=\"text-align: right;\">\n",
       "      <th></th>\n",
       "      <th>product_id</th>\n",
       "      <th>image</th>\n",
       "    </tr>\n",
       "  </thead>\n",
       "  <tbody>\n",
       "    <tr>\n",
       "      <th>0</th>\n",
       "      <td>2</td>\n",
       "      <td>https://i.imgur.com/QkIa5tT.jpeg</td>\n",
       "    </tr>\n",
       "    <tr>\n",
       "      <th>1</th>\n",
       "      <td>3</td>\n",
       "      <td>https://i.imgur.com/QkIa5tT.jpeg</td>\n",
       "    </tr>\n",
       "  </tbody>\n",
       "</table>\n",
       "</div>"
      ],
      "text/plain": [
       "   product_id                             image\n",
       "0           2  https://i.imgur.com/QkIa5tT.jpeg\n",
       "1           3  https://i.imgur.com/QkIa5tT.jpeg"
      ]
     },
     "execution_count": 51,
     "metadata": {},
     "output_type": "execute_result"
    }
   ],
   "source": [
    "df_products_images.head(2)"
   ]
  },
  {
   "cell_type": "code",
   "execution_count": 52,
   "id": "b0cae7fd",
   "metadata": {},
   "outputs": [
    {
     "data": {
      "text/html": [
       "<div>\n",
       "<style scoped>\n",
       "    .dataframe tbody tr th:only-of-type {\n",
       "        vertical-align: middle;\n",
       "    }\n",
       "\n",
       "    .dataframe tbody tr th {\n",
       "        vertical-align: top;\n",
       "    }\n",
       "\n",
       "    .dataframe thead th {\n",
       "        text-align: right;\n",
       "    }\n",
       "</style>\n",
       "<table border=\"1\" class=\"dataframe\">\n",
       "  <thead>\n",
       "    <tr style=\"text-align: right;\">\n",
       "      <th></th>\n",
       "      <th>category_id</th>\n",
       "      <th>name</th>\n",
       "    </tr>\n",
       "  </thead>\n",
       "  <tbody>\n",
       "    <tr>\n",
       "      <th>0</th>\n",
       "      <td>1</td>\n",
       "      <td>Clothes</td>\n",
       "    </tr>\n",
       "    <tr>\n",
       "      <th>1</th>\n",
       "      <td>2</td>\n",
       "      <td>Electronics</td>\n",
       "    </tr>\n",
       "  </tbody>\n",
       "</table>\n",
       "</div>"
      ],
      "text/plain": [
       "   category_id         name\n",
       "0            1      Clothes\n",
       "1            2  Electronics"
      ]
     },
     "execution_count": 52,
     "metadata": {},
     "output_type": "execute_result"
    }
   ],
   "source": [
    "df_category.head(2)"
   ]
  },
  {
   "cell_type": "code",
   "execution_count": 53,
   "id": "144c5922",
   "metadata": {},
   "outputs": [
    {
     "data": {
      "text/html": [
       "<div>\n",
       "<style scoped>\n",
       "    .dataframe tbody tr th:only-of-type {\n",
       "        vertical-align: middle;\n",
       "    }\n",
       "\n",
       "    .dataframe tbody tr th {\n",
       "        vertical-align: top;\n",
       "    }\n",
       "\n",
       "    .dataframe thead th {\n",
       "        text-align: right;\n",
       "    }\n",
       "</style>\n",
       "<table border=\"1\" class=\"dataframe\">\n",
       "  <thead>\n",
       "    <tr style=\"text-align: right;\">\n",
       "      <th></th>\n",
       "      <th>category_id</th>\n",
       "      <th>image</th>\n",
       "    </tr>\n",
       "  </thead>\n",
       "  <tbody>\n",
       "    <tr>\n",
       "      <th>0</th>\n",
       "      <td>1</td>\n",
       "      <td>https://i.imgur.com/QkIa5tT.jpeg</td>\n",
       "    </tr>\n",
       "    <tr>\n",
       "      <th>1</th>\n",
       "      <td>2</td>\n",
       "      <td>https://i.imgur.com/ZANVnHE.jpeg</td>\n",
       "    </tr>\n",
       "    <tr>\n",
       "      <th>2</th>\n",
       "      <td>3</td>\n",
       "      <td>https://i.imgur.com/Qphac99.jpeg</td>\n",
       "    </tr>\n",
       "    <tr>\n",
       "      <th>3</th>\n",
       "      <td>4</td>\n",
       "      <td>https://i.imgur.com/qNOjJje.jpeg</td>\n",
       "    </tr>\n",
       "    <tr>\n",
       "      <th>4</th>\n",
       "      <td>5</td>\n",
       "      <td>https://i.imgur.com/BG8J0Fj.jpg</td>\n",
       "    </tr>\n",
       "  </tbody>\n",
       "</table>\n",
       "</div>"
      ],
      "text/plain": [
       "   category_id                             image\n",
       "0            1  https://i.imgur.com/QkIa5tT.jpeg\n",
       "1            2  https://i.imgur.com/ZANVnHE.jpeg\n",
       "2            3  https://i.imgur.com/Qphac99.jpeg\n",
       "3            4  https://i.imgur.com/qNOjJje.jpeg\n",
       "4            5   https://i.imgur.com/BG8J0Fj.jpg"
      ]
     },
     "execution_count": 53,
     "metadata": {},
     "output_type": "execute_result"
    }
   ],
   "source": [
    "df_category_images.head()"
   ]
  },
  {
   "cell_type": "code",
   "execution_count": null,
   "id": "245d8c6a",
   "metadata": {},
   "outputs": [],
   "source": []
  }
 ],
 "metadata": {
  "kernelspec": {
   "display_name": ".venv (3.12.1)",
   "language": "python",
   "name": "python3"
  },
  "language_info": {
   "codemirror_mode": {
    "name": "ipython",
    "version": 3
   },
   "file_extension": ".py",
   "mimetype": "text/x-python",
   "name": "python",
   "nbconvert_exporter": "python",
   "pygments_lexer": "ipython3",
   "version": "3.12.1"
  }
 },
 "nbformat": 4,
 "nbformat_minor": 5
}
